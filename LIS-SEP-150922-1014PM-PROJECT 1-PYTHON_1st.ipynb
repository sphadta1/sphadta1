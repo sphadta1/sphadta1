{
 "cells": [
  {
   "cell_type": "code",
   "execution_count": 1,
   "id": "84ff38d9",
   "metadata": {},
   "outputs": [],
   "source": [
    "import re"
   ]
  },
  {
   "cell_type": "code",
   "execution_count": 2,
   "id": "44f79052",
   "metadata": {},
   "outputs": [
    {
     "name": "stdout",
     "output_type": "stream",
     "text": [
      "A, ASCII, DEBUG, DOTALL, I, IGNORECASE, L, LOCALE, M, MULTILINE, Match, Pattern, RegexFlag, S, Scanner, T, TEMPLATE, U, UNICODE, VERBOSE, X, _MAXCACHE, __all__, __builtins__, __cached__, __doc__, __file__, __loader__, __name__, __package__, __spec__, __version__, _cache, _compile, _compile_repl, _expand, _locale, _pickle, _special_chars_map, _subx, compile, copyreg, enum, error, escape, findall, finditer, fullmatch, functools, match, purge, search, split, sre_compile, sre_parse, sub, subn, template, "
     ]
    }
   ],
   "source": [
    "for i in dir(re):\n",
    "    print(i, end=\", \")"
   ]
  },
  {
   "cell_type": "code",
   "execution_count": 3,
   "id": "3fdccfe3",
   "metadata": {},
   "outputs": [
    {
     "name": "stdout",
     "output_type": "stream",
     "text": [
      "58\n"
     ]
    }
   ],
   "source": [
    "print(len(dir(re)))"
   ]
  },
  {
   "cell_type": "code",
   "execution_count": 4,
   "id": "c2745678",
   "metadata": {},
   "outputs": [
    {
     "name": "stdout",
     "output_type": "stream",
     "text": [
      "Help on function compile in module re:\n",
      "\n",
      "compile(pattern, flags=0)\n",
      "    Compile a regular expression pattern, returning a Pattern object.\n",
      "\n"
     ]
    }
   ],
   "source": [
    "help(re.compile)"
   ]
  },
  {
   "cell_type": "code",
   "execution_count": 5,
   "id": "c1ead449",
   "metadata": {},
   "outputs": [
    {
     "name": "stdout",
     "output_type": "stream",
     "text": [
      "Help on function purge in module re:\n",
      "\n",
      "purge()\n",
      "    Clear the regular expression caches\n",
      "\n"
     ]
    }
   ],
   "source": [
    "help(re.purge)"
   ]
  },
  {
   "cell_type": "code",
   "execution_count": 6,
   "id": "d03f1e01",
   "metadata": {},
   "outputs": [
    {
     "name": "stdout",
     "output_type": "stream",
     "text": [
      "Phone number found: 983-634-7708\n"
     ]
    }
   ],
   "source": [
    "phoneNumRegex = re.compile(r'\\d\\d\\d-\\d\\d\\d-\\d\\d\\d\\d')\n",
    "match_obj = phoneNumRegex.search('My number is 983-634-7708.')\n",
    "print('Phone number found: ' + match_obj.group())"
   ]
  },
  {
   "cell_type": "code",
   "execution_count": 7,
   "id": "db08952b",
   "metadata": {},
   "outputs": [
    {
     "name": "stdout",
     "output_type": "stream",
     "text": [
      "Match!\n"
     ]
    }
   ],
   "source": [
    "pattern = r\"Mango\"\n",
    "sequence = \"Mango\"\n",
    "if re.match(pattern, sequence):\n",
    "    print(\"Match!\")\n",
    "else: \n",
    "    print(\"Not a match!\")"
   ]
  },
  {
   "cell_type": "code",
   "execution_count": 8,
   "id": "b0375c43",
   "metadata": {},
   "outputs": [
    {
     "name": "stdout",
     "output_type": "stream",
     "text": [
      "None\n"
     ]
    }
   ],
   "source": [
    "pattern = r\"Mango\"\n",
    "sequence = \"Orange\"\n",
    "print(re.match(pattern, sequence))"
   ]
  },
  {
   "cell_type": "code",
   "execution_count": 9,
   "id": "3b385686",
   "metadata": {},
   "outputs": [
    {
     "data": {
      "text/plain": [
       "'Mango'"
      ]
     },
     "execution_count": 9,
     "metadata": {},
     "output_type": "execute_result"
    }
   ],
   "source": [
    "re.search(r'M.n.o', 'Mango').group()"
   ]
  },
  {
   "cell_type": "code",
   "execution_count": 10,
   "id": "5da8bb7b",
   "metadata": {},
   "outputs": [
    {
     "data": {
      "text/plain": [
       "'Mango'"
      ]
     },
     "execution_count": 10,
     "metadata": {},
     "output_type": "execute_result"
    }
   ],
   "source": [
    "re.search(r'M\\wng\\w', 'Mango').group()"
   ]
  },
  {
   "cell_type": "code",
   "execution_count": 11,
   "id": "0a7e7dcd",
   "metadata": {},
   "outputs": [
    {
     "data": {
      "text/plain": [
       "'S@gmail'"
      ]
     },
     "execution_count": 11,
     "metadata": {},
     "output_type": "execute_result"
    }
   ],
   "source": [
    "re.search(r'S\\Wgmail', 'S@gmail').group()"
   ]
  },
  {
   "cell_type": "code",
   "execution_count": 12,
   "id": "0a078074",
   "metadata": {},
   "outputs": [
    {
     "data": {
      "text/plain": [
       "'Eat cake'"
      ]
     },
     "execution_count": 12,
     "metadata": {},
     "output_type": "execute_result"
    }
   ],
   "source": [
    "re.search(r'Eat\\scake', 'Eat cake').group()"
   ]
  },
  {
   "cell_type": "code",
   "execution_count": 13,
   "id": "0c0c3e0c",
   "metadata": {},
   "outputs": [
    {
     "data": {
      "text/plain": [
       "'Mango'"
      ]
     },
     "execution_count": 13,
     "metadata": {},
     "output_type": "execute_result"
    }
   ],
   "source": [
    "re.search(r'M\\Sngo', 'Mango').group()"
   ]
  },
  {
   "cell_type": "code",
   "execution_count": 14,
   "id": "081fead9",
   "metadata": {},
   "outputs": [
    {
     "data": {
      "text/plain": [
       "'Mang0'"
      ]
     },
     "execution_count": 14,
     "metadata": {},
     "output_type": "execute_result"
    }
   ],
   "source": [
    "re.search(r'Mang\\d', 'Mang0').group()"
   ]
  },
  {
   "cell_type": "code",
   "execution_count": 15,
   "id": "c7e99b8d",
   "metadata": {},
   "outputs": [
    {
     "data": {
      "text/plain": [
       "'Eat'"
      ]
     },
     "execution_count": 15,
     "metadata": {},
     "output_type": "execute_result"
    }
   ],
   "source": [
    "re.search(r'^Eat', 'Eat Rice').group()"
   ]
  },
  {
   "cell_type": "code",
   "execution_count": 16,
   "id": "8380905a",
   "metadata": {},
   "outputs": [
    {
     "data": {
      "text/plain": [
       "'Rice'"
      ]
     },
     "execution_count": 16,
     "metadata": {},
     "output_type": "execute_result"
    }
   ],
   "source": [
    "re.search(r'Rice$', 'Eat Rice').group()"
   ]
  },
  {
   "cell_type": "code",
   "execution_count": 17,
   "id": "1d76c90b",
   "metadata": {},
   "outputs": [
    {
     "data": {
      "text/plain": [
       "'Number: 8'"
      ]
     },
     "execution_count": 17,
     "metadata": {},
     "output_type": "execute_result"
    }
   ],
   "source": [
    "re.search(r'Number: [0-9]', 'Number: 8').group()"
   ]
  },
  {
   "cell_type": "code",
   "execution_count": 18,
   "id": "7b4d12d7",
   "metadata": {},
   "outputs": [
    {
     "data": {
      "text/plain": [
       "'Number: 9'"
      ]
     },
     "execution_count": 18,
     "metadata": {},
     "output_type": "execute_result"
    }
   ],
   "source": [
    "re.search(r'Number: [^7]', 'Number: 9').group()"
   ]
  },
  {
   "cell_type": "code",
   "execution_count": 19,
   "id": "261c969a",
   "metadata": {},
   "outputs": [
    {
     "data": {
      "text/plain": [
       "'Rice'"
      ]
     },
     "execution_count": 19,
     "metadata": {},
     "output_type": "execute_result"
    }
   ],
   "source": [
    "re.search(r'\\A[A-R]ice', 'Rice').group()"
   ]
  },
  {
   "cell_type": "code",
   "execution_count": 20,
   "id": "4ae06361",
   "metadata": {},
   "outputs": [
    {
     "data": {
      "text/plain": [
       "'Rice'"
      ]
     },
     "execution_count": 20,
     "metadata": {},
     "output_type": "execute_result"
    }
   ],
   "source": [
    "re.search(r'\\b[A-R]ice', 'Rice').group()"
   ]
  },
  {
   "cell_type": "code",
   "execution_count": 21,
   "id": "7a508909",
   "metadata": {},
   "outputs": [
    {
     "data": {
      "text/plain": [
       "'Superman'"
      ]
     },
     "execution_count": 21,
     "metadata": {},
     "output_type": "execute_result"
    }
   ],
   "source": [
    "superRegex = re.compile(r'Super(wo)*man')\n",
    "match_obj1 = superRegex.search('The Adventures of Superman')\n",
    "match_obj1.group()"
   ]
  },
  {
   "cell_type": "code",
   "execution_count": 22,
   "id": "c2e48252",
   "metadata": {},
   "outputs": [
    {
     "data": {
      "text/plain": [
       "'Superwoman'"
      ]
     },
     "execution_count": 22,
     "metadata": {},
     "output_type": "execute_result"
    }
   ],
   "source": [
    "mo2 = superRegex.search('The Adventures of Superwoman')\n",
    "mo2.group()"
   ]
  },
  {
   "cell_type": "code",
   "execution_count": 23,
   "id": "7009b65e",
   "metadata": {},
   "outputs": [
    {
     "data": {
      "text/plain": [
       "'Superwowowowoman'"
      ]
     },
     "execution_count": 23,
     "metadata": {},
     "output_type": "execute_result"
    }
   ],
   "source": [
    "mo3 = superRegex.search('The Adventures of Superwowowowoman')\n",
    "mo3.group()"
   ]
  },
  {
   "cell_type": "code",
   "execution_count": 24,
   "id": "69a95aaa",
   "metadata": {},
   "outputs": [
    {
     "data": {
      "text/plain": [
       "'Superwoman'"
      ]
     },
     "execution_count": 24,
     "metadata": {},
     "output_type": "execute_result"
    }
   ],
   "source": [
    "superRegex = re.compile(r'Super(wo)+man')\n",
    "match_obj1 = superRegex.search('The Adventures of Superwoman')\n",
    "match_obj1.group()"
   ]
  },
  {
   "cell_type": "code",
   "execution_count": 25,
   "id": "9cae76a4",
   "metadata": {},
   "outputs": [
    {
     "data": {
      "text/plain": [
       "'Superwowowowoman'"
      ]
     },
     "execution_count": 25,
     "metadata": {},
     "output_type": "execute_result"
    }
   ],
   "source": [
    "match_obj2 = superRegex.search('The Adventures of Superwowowowoman')\n",
    "match_obj2.group()"
   ]
  },
  {
   "cell_type": "code",
   "execution_count": 26,
   "id": "e76eee43",
   "metadata": {},
   "outputs": [
    {
     "data": {
      "text/plain": [
       "True"
      ]
     },
     "execution_count": 26,
     "metadata": {},
     "output_type": "execute_result"
    }
   ],
   "source": [
    "match_obj3 = superRegex.search('The Adventures of Superman')\n",
    "# match_obj3.group()\n",
    "match_obj3==None"
   ]
  },
  {
   "cell_type": "code",
   "execution_count": 27,
   "id": "cdf2db47",
   "metadata": {},
   "outputs": [
    {
     "data": {
      "text/plain": [
       "'Color'"
      ]
     },
     "execution_count": 27,
     "metadata": {},
     "output_type": "execute_result"
    }
   ],
   "source": [
    "re.search(r'Colou?r', 'Color').group()"
   ]
  },
  {
   "cell_type": "code",
   "execution_count": 28,
   "id": "ba348df8",
   "metadata": {},
   "outputs": [
    {
     "name": "stdout",
     "output_type": "stream",
     "text": [
      "<re.Match object; span=(0, 4), match='Indi'>\n",
      "<re.Match object; span=(0, 5), match='India'>\n"
     ]
    }
   ],
   "source": [
    "regexp = 'India?'\n",
    "word1 = re.match(regexp, 'Indi')\n",
    "print(word1)\n",
    "word2 = re.match(regexp, 'India')\n",
    "print(word2)"
   ]
  },
  {
   "cell_type": "code",
   "execution_count": 29,
   "id": "094984e9",
   "metadata": {},
   "outputs": [
    {
     "data": {
      "text/plain": [
       "'0987654321'"
      ]
     },
     "execution_count": 29,
     "metadata": {},
     "output_type": "execute_result"
    }
   ],
   "source": [
    "re.search(r'\\d{9,10}', '0987654321').group()"
   ]
  },
  {
   "cell_type": "code",
   "execution_count": 30,
   "id": "faa2cf98",
   "metadata": {},
   "outputs": [
    {
     "name": "stdout",
     "output_type": "stream",
     "text": [
      "<re.Match object; span=(0, 3), match='Rua'>\n"
     ]
    }
   ],
   "source": [
    "result = re.match(r'Rua', 'Rua Analytics')\n",
    "print(result)"
   ]
  },
  {
   "cell_type": "code",
   "execution_count": 31,
   "id": "9157e65f",
   "metadata": {},
   "outputs": [
    {
     "name": "stdout",
     "output_type": "stream",
     "text": [
      "Rua\n"
     ]
    }
   ],
   "source": [
    "print(result.group(0))"
   ]
  },
  {
   "cell_type": "code",
   "execution_count": 32,
   "id": "f0be3895",
   "metadata": {},
   "outputs": [
    {
     "name": "stdout",
     "output_type": "stream",
     "text": [
      "Analytics\n"
     ]
    }
   ],
   "source": [
    "result = re.search(r'Analytics', 'Rua Analytics')\n",
    "print(result.group(0))"
   ]
  },
  {
   "cell_type": "code",
   "execution_count": 33,
   "id": "9e450329",
   "metadata": {},
   "outputs": [
    {
     "name": "stdout",
     "output_type": "stream",
     "text": [
      "['Rua', 'Rua']\n"
     ]
    }
   ],
   "source": [
    "result = re.findall(r'Rua', 'Rua Analytics Rua')\n",
    "print(result)"
   ]
  },
  {
   "cell_type": "code",
   "execution_count": 34,
   "id": "f3e19526",
   "metadata": {},
   "outputs": [
    {
     "name": "stdout",
     "output_type": "stream",
     "text": [
      "['occurr', 'nc', 's']\n"
     ]
    }
   ],
   "source": [
    "result=re.split(r'e','occurrences')\n",
    "print(result)"
   ]
  },
  {
   "cell_type": "code",
   "execution_count": 35,
   "id": "36a65eec",
   "metadata": {},
   "outputs": [
    {
     "name": "stdout",
     "output_type": "stream",
     "text": [
      "['Rahul', 'is', 'a', 'bad', 'boy']\n"
     ]
    }
   ],
   "source": [
    "result=re.split(r'\\s','Rahul is a bad boy')\n",
    "print(result)"
   ]
  },
  {
   "cell_type": "code",
   "execution_count": 36,
   "id": "8c29736d",
   "metadata": {},
   "outputs": [
    {
     "name": "stdout",
     "output_type": "stream",
     "text": [
      "Rahul is a good boy\n"
     ]
    }
   ],
   "source": [
    "result=re.sub(r'bad','good','Rahul is a bad boy')\n",
    "print(result)"
   ]
  },
  {
   "cell_type": "code",
   "execution_count": null,
   "id": "69fb5ee9",
   "metadata": {},
   "outputs": [],
   "source": []
  }
 ],
 "metadata": {
  "kernelspec": {
   "display_name": "Python 3 (ipykernel)",
   "language": "python",
   "name": "python3"
  },
  "language_info": {
   "codemirror_mode": {
    "name": "ipython",
    "version": 3
   },
   "file_extension": ".py",
   "mimetype": "text/x-python",
   "name": "python",
   "nbconvert_exporter": "python",
   "pygments_lexer": "ipython3",
   "version": "3.9.12"
  }
 },
 "nbformat": 4,
 "nbformat_minor": 5
}
