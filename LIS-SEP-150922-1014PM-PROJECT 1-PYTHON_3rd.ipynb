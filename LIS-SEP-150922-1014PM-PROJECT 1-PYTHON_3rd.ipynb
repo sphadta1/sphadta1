{
 "cells": [
  {
   "cell_type": "code",
   "execution_count": 1,
   "id": "0743274b",
   "metadata": {},
   "outputs": [],
   "source": [
    "import requests\n",
    "import json"
   ]
  },
  {
   "cell_type": "code",
   "execution_count": 15,
   "id": "0777a5c9",
   "metadata": {},
   "outputs": [],
   "source": [
    "req = requests.get(\"https://api.postalpincode.in/pincode/751004\")"
   ]
  },
  {
   "cell_type": "code",
   "execution_count": 16,
   "id": "8bb08eef",
   "metadata": {},
   "outputs": [],
   "source": [
    "response = req.json()"
   ]
  },
  {
   "cell_type": "code",
   "execution_count": 17,
   "id": "4e8477cc",
   "metadata": {},
   "outputs": [
    {
     "name": "stdout",
     "output_type": "stream",
     "text": [
      "Number of pincode(s) found:1\n",
      "Success\n",
      "Utkal University **Khorda****751004\n"
     ]
    }
   ],
   "source": [
    "for item in response:\n",
    "    print(item['Message'])\n",
    "    print(item['Status'])\n",
    "    postOffice = item['PostOffice']\n",
    "    for pDetails in postOffice:\n",
    "        print(pDetails['Name']+\" **\"+pDetails['District']+\"****\"+pDetails['Pincode'])"
   ]
  },
  {
   "cell_type": "code",
   "execution_count": null,
   "id": "62100af0",
   "metadata": {},
   "outputs": [],
   "source": []
  }
 ],
 "metadata": {
  "kernelspec": {
   "display_name": "Python 3 (ipykernel)",
   "language": "python",
   "name": "python3"
  },
  "language_info": {
   "codemirror_mode": {
    "name": "ipython",
    "version": 3
   },
   "file_extension": ".py",
   "mimetype": "text/x-python",
   "name": "python",
   "nbconvert_exporter": "python",
   "pygments_lexer": "ipython3",
   "version": "3.9.12"
  }
 },
 "nbformat": 4,
 "nbformat_minor": 5
}
